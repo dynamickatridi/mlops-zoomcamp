{
 "cells": [
  {
   "cell_type": "markdown",
   "id": "bab97d79",
   "metadata": {},
   "source": [
    "## Q1. Install the package\n",
    "To get started with MLflow you'll need to install the appropriate Python package.\n",
    "\n",
    "For this we recommend creating a separate Python environment, for example, you can use conda environments, and then install the package there with pip or conda.\n",
    "\n",
    "Once you installed the package, run the command mlflow --version and check the output.\n",
    "\n",
    "What's the version that you have?"
   ]
  },
  {
   "cell_type": "code",
   "execution_count": null,
   "id": "8604cfba",
   "metadata": {
    "scrolled": false
   },
   "outputs": [],
   "source": [
    "! mlflow --version"
   ]
  },
  {
   "cell_type": "code",
   "execution_count": null,
   "id": "3ee0c85e",
   "metadata": {},
   "outputs": [],
   "source": [
    "from preprocess_data import run_data_prep"
   ]
  },
  {
   "cell_type": "code",
   "execution_count": null,
   "id": "2fc1d6e4",
   "metadata": {},
   "outputs": [],
   "source": [
    "run_data_prep(raw_data_path='data', dest_path='output')"
   ]
  },
  {
   "cell_type": "markdown",
   "id": "6c218481",
   "metadata": {},
   "source": [
    "## Q2. So what's the size of the saved DictVectorizer file?\n",
    "\n",
    "- 54 kB\n",
    "- 154 kB\n",
    "- 54 MB\n",
    "- 154 MB"
   ]
  },
  {
   "cell_type": "code",
   "execution_count": null,
   "id": "78e400da",
   "metadata": {},
   "outputs": [],
   "source": [
    "! du -h output/dv.pkl"
   ]
  },
  {
   "cell_type": "code",
   "execution_count": null,
   "id": "0a32cc06",
   "metadata": {},
   "outputs": [],
   "source": [
    "from train import run_train"
   ]
  },
  {
   "cell_type": "code",
   "execution_count": null,
   "id": "3eb1ba92",
   "metadata": {},
   "outputs": [],
   "source": [
    "run_train('output')"
   ]
  },
  {
   "cell_type": "markdown",
   "id": "300b0002",
   "metadata": {},
   "source": [
    "## Q3. What is the value of the max_depth parameter:\n",
    "\n",
    "- 4\n",
    "- 6\n",
    "- 8\n",
    "- 10"
   ]
  },
  {
   "cell_type": "markdown",
   "id": "91316a5f",
   "metadata": {},
   "source": [
    "## Q4. Tune model hyperparameters\n",
    "Now let's try to reduce the validation error by tuning the hyperparameters of the RandomForestRegressor using optuna. We have prepared the script hpo.py for this exercise.\n",
    "\n",
    "Your task is to modify the script `hpo.py` and make sure that the validation RMSE is logged to the tracking server for each run of the hyperparameter optimization (you will need to add a few lines of code to the objective function) and run the script without passing any parameters.\n",
    "\n",
    "After that, open UI and explore the runs from the experiment called `random-forest-hyperopt` to answer the question below.\n",
    "\n",
    "Note: Don't use autologging for this exercise.\n",
    "\n",
    "The idea is to just log the information that you need to answer the question below, including:\n",
    "- the list of hyperparameters that are passed to the `objective` function during the optimization\n",
    "- the `RMSE` obtained on the validation set (February 2022 data).\n",
    "### What's the best validation RMSE that you got?\n",
    "\n",
    "- 1.85\n",
    "- 2.15\n",
    "- 2.45\n",
    "- 2.85\n"
   ]
  },
  {
   "cell_type": "code",
   "execution_count": null,
   "id": "56c52f64",
   "metadata": {},
   "outputs": [],
   "source": [
    "from hpo import run_optimization"
   ]
  },
  {
   "cell_type": "code",
   "execution_count": null,
   "id": "b82ac39b",
   "metadata": {},
   "outputs": [],
   "source": [
    "run_optimization('output', num_trials=10)"
   ]
  },
  {
   "cell_type": "markdown",
   "id": "c272419a",
   "metadata": {},
   "source": [
    "## Q5. Promote the best model to the model registry\n",
    "\n",
    "The results from the hyperparameter optimization are quite good. So, we can assume that we are ready to test some of these models in production. In this exercise, you'll promote the best model to the model registry. We have prepared a script called register_model.py, which will check the results from the previous step and select the top 5 runs. After that, it will calculate the RMSE of those models on the test set (March 2022 data) and save the results to a new experiment called random-forest-best-models.\n",
    "\n",
    "Your task is to update the script `register_model.py` so that it selects the model with the lowest RMSE on the test set and registers it to the model registry.\n",
    "\n",
    "Tips for MLflow:\n",
    "\n",
    "1. you can use the method search_runs from the MlflowClient to get the model with the lowest RMSE,\n",
    "2. to register the model you can use the method mlflow.register_model and you will need to pass the right model_uri in the form of a string that looks like this: \"runs:/<RUN_ID>/model\", and the name of the model (make sure to choose a good one!).\n",
    "What is the test RMSE of the best model?\n",
    "\n",
    "\n",
    "- 1.885\n",
    "- 2.185\n",
    "- 2.555\n",
    "- 2.955"
   ]
  },
  {
   "cell_type": "code",
   "execution_count": null,
   "id": "81ef243f",
   "metadata": {},
   "outputs": [],
   "source": [
    "from register_model import run_register_model"
   ]
  },
  {
   "cell_type": "code",
   "execution_count": null,
   "id": "373dfb28",
   "metadata": {},
   "outputs": [],
   "source": [
    "run_register_model('output', top_n=10)"
   ]
  },
  {
   "cell_type": "markdown",
   "id": "844077fc",
   "metadata": {},
   "source": [
    "## Q6. Model metadata\n",
    "Now explore your best model in the model registry using UI. What information does the model registry contain about each model?\n",
    "\n",
    "- Version number\n",
    "- Source experiment\n",
    "- Model signature\n",
    "- All the above answers are correct"
   ]
  },
  {
   "cell_type": "code",
   "execution_count": null,
   "id": "6728a502",
   "metadata": {},
   "outputs": [],
   "source": []
  }
 ],
 "metadata": {
  "kernelspec": {
   "display_name": "Python 3 (ipykernel)",
   "language": "python",
   "name": "python3"
  },
  "language_info": {
   "codemirror_mode": {
    "name": "ipython",
    "version": 3
   },
   "file_extension": ".py",
   "mimetype": "text/x-python",
   "name": "python",
   "nbconvert_exporter": "python",
   "pygments_lexer": "ipython3",
   "version": "3.9.16"
  }
 },
 "nbformat": 4,
 "nbformat_minor": 5
}
